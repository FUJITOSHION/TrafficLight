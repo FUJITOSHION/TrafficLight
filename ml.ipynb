{
  "nbformat": 4,
  "nbformat_minor": 0,
  "metadata": {
    "kernelspec": {
      "name": "python3",
      "display_name": "Python 3"
    },
    "language_info": {
      "codemirror_mode": {
        "name": "ipython",
        "version": 3
      },
      "file_extension": ".py",
      "mimetype": "text/x-python",
      "name": "python",
      "nbconvert_exporter": "python",
      "pygments_lexer": "ipython3",
      "version": "3.7.3"
    },
    "colab": {
      "name": "ml",
      "provenance": [],
      "include_colab_link": true
    },
    "accelerator": "GPU"
  },
  "cells": [
    {
      "cell_type": "markdown",
      "metadata": {
        "id": "view-in-github",
        "colab_type": "text"
      },
      "source": [
        "<a href=\"https://colab.research.google.com/github/FUJITOSHION/TrafficLight/blob/master/ml.ipynb\" target=\"_parent\"><img src=\"https://colab.research.google.com/assets/colab-badge.svg\" alt=\"Open In Colab\"/></a>"
      ]
    },
    {
      "cell_type": "markdown",
      "metadata": {
        "id": "8fgp92Hlf4ow",
        "colab_type": "text"
      },
      "source": [
        "# 第2章\n"
      ]
    },
    {
      "cell_type": "markdown",
      "metadata": {
        "id": "eJhw9g6OkCb1",
        "colab_type": "text"
      },
      "source": [
        ""
      ]
    },
    {
      "cell_type": "code",
      "metadata": {
        "id": "9Skwc3Zqf4o0",
        "colab_type": "code",
        "colab": {}
      },
      "source": [
        "import numpy as np\n",
        "#data\n",
        "from sklearn.datasets import load_breast_cancer, load_boston, make_circles, make_blobs\n",
        "#model_selection\n",
        "from sklearn.model_selection import train_test_split\n",
        "#classifier or regesser \n",
        "from sklearn.neighbors import KNeighborsClassifier\n",
        "from sklearn.linear_model import LinearRegression, Ridge\n",
        "from sklearn.ensemble import GradientBoostingClassifier\n",
        "from sklearn.svm import SVC\n",
        "#change_scale\n",
        "from sklearn.preprocessing import MinMaxScaler, StandardScaler\n",
        "from sklearn.decomposition import PCA\n",
        "#cluseter\n",
        "from sklearn.cluster import KMeans, AgglomerativeClustering"
      ],
      "execution_count": 0,
      "outputs": []
    },
    {
      "cell_type": "code",
      "metadata": {
        "id": "BEnDsOpSf4o5",
        "colab_type": "code",
        "outputId": "4baf09cc-44ed-4ef5-d109-29dad0606362",
        "colab": {
          "base_uri": "https://localhost:8080/",
          "height": 136
        }
      },
      "source": [
        "X, y = make_circles(noise=0.25, factor = 0.5, random_state=1)\n",
        "X_train, X_test, y_train, y_test = train_test_split(X, y, random_state=0)\n",
        "lr = GradientBoostingClassifier(random_state=0)\n",
        "lr.fit(X_train, y_train)\n",
        "print(lr.score(X_train, y_train))\n",
        "print(lr.score(X_test, y_test))\n",
        "print(lr.decision_function(X_test))"
      ],
      "execution_count": 0,
      "outputs": [
        {
          "output_type": "stream",
          "text": [
            "1.0\n",
            "0.84\n",
            "[ 4.13592629 -1.7016989  -3.95106099 -3.62599351  4.28986668  3.66166106\n",
            " -7.69097177  4.11001634  1.10753883  3.40782247 -6.46262729  4.28986668\n",
            "  3.90156371 -1.20031192  3.66166106 -4.17231209 -1.23010022 -3.91576275\n",
            "  4.03602808  4.11001634  4.11001634  0.65708962  2.69826291 -2.65673325\n",
            " -1.86776597]\n"
          ],
          "name": "stdout"
        }
      ]
    },
    {
      "cell_type": "markdown",
      "metadata": {
        "id": "R-q9bSFUf4o-",
        "colab_type": "text"
      },
      "source": [
        "# 第３章"
      ]
    },
    {
      "cell_type": "code",
      "metadata": {
        "id": "12apmUFKf4o_",
        "colab_type": "code",
        "outputId": "63bc144a-9b8f-4df5-f1ed-488c41d85b9e",
        "colab": {
          "base_uri": "https://localhost:8080/",
          "height": 122
        }
      },
      "source": [
        "cancer = load_breast_cancer()\n",
        "X_train, X_test, y_train, y_test = train_test_split(cancer.data, cancer.target,random_state=0)\n",
        "scaler = StandardScaler()\n",
        "scaler.fit(X_train)\n",
        "X = scaler.transform(X_train)\n",
        "X_test1 = scaler.transform(X_test)\n",
        "pca = PCA(n_components=10)\n",
        "pca.fit(X)\n",
        "X = pca.transform(X)\n",
        "X_test1 = pca.transform(X_test1)\n",
        "svm = SVC()\n",
        "svm.fit(X,y_train)\n",
        "print(svm.score(X_test1,y_test))\n",
        "print(cancer.data.shape)\n",
        "print(X.shape)"
      ],
      "execution_count": 0,
      "outputs": [
        {
          "output_type": "stream",
          "text": [
            "0.972027972027972\n",
            "(569, 30)\n",
            "(426, 10)\n"
          ],
          "name": "stdout"
        },
        {
          "output_type": "stream",
          "text": [
            "/usr/local/lib/python3.6/dist-packages/sklearn/svm/base.py:193: FutureWarning: The default value of gamma will change from 'auto' to 'scale' in version 0.22 to account better for unscaled features. Set gamma explicitly to 'auto' or 'scale' to avoid this warning.\n",
            "  \"avoid this warning.\", FutureWarning)\n"
          ],
          "name": "stderr"
        }
      ]
    },
    {
      "cell_type": "code",
      "metadata": {
        "id": "8YemtQXGf4pD",
        "colab_type": "code",
        "outputId": "43ae17bd-2d74-4c7c-c046-70392f536922",
        "colab": {
          "base_uri": "https://localhost:8080/",
          "height": 119
        }
      },
      "source": [
        "X, y = make_blobs(random_state = 1)\n",
        "kmeans = KMeans(n_clusters=3)\n",
        "kmeans.fit(X)\n",
        "bg = kmeans.predict(X)\n",
        "print(bg)\n",
        "agg = AgglomerativeClustering(n_clusters=3)\n",
        "ag = agg.fit_predict(X)\n",
        "print(ag)"
      ],
      "execution_count": 0,
      "outputs": [
        {
          "output_type": "stream",
          "text": [
            "[1 0 0 0 2 2 2 0 1 1 0 0 2 1 2 2 2 1 0 0 2 0 2 1 0 2 2 1 1 2 1 1 2 1 0 2 0\n",
            " 0 0 2 2 0 1 0 0 2 1 1 1 1 0 2 2 2 1 2 0 0 1 1 0 2 2 0 0 2 1 2 1 0 0 0 2 1\n",
            " 1 0 2 2 1 0 1 0 0 2 1 1 1 1 0 1 2 1 1 0 0 2 2 1 2 1]\n",
            "[0 2 2 2 1 1 1 2 0 0 2 2 1 0 1 1 1 0 2 2 1 2 1 0 2 1 1 0 0 1 0 0 1 0 2 1 2\n",
            " 2 2 1 1 2 0 2 2 1 0 0 0 0 2 1 1 1 0 1 2 2 0 0 2 1 1 2 2 1 0 1 0 2 2 2 1 0\n",
            " 0 2 1 1 0 2 0 2 2 1 0 0 0 0 2 0 1 0 0 2 2 1 1 0 1 0]\n"
          ],
          "name": "stdout"
        }
      ]
    },
    {
      "cell_type": "markdown",
      "metadata": {
        "id": "sXfaOBLpjc6f",
        "colab_type": "text"
      },
      "source": [
        "#第4章\n"
      ]
    },
    {
      "cell_type": "code",
      "metadata": {
        "id": "SHO5ocvUf4pJ",
        "colab_type": "code",
        "colab": {}
      },
      "source": [
        ""
      ],
      "execution_count": 0,
      "outputs": []
    },
    {
      "cell_type": "code",
      "metadata": {
        "id": "qoWsUN_rf4pL",
        "colab_type": "code",
        "colab": {}
      },
      "source": [
        ""
      ],
      "execution_count": 0,
      "outputs": []
    },
    {
      "cell_type": "code",
      "metadata": {
        "id": "HUOd6mqqf4pN",
        "colab_type": "code",
        "colab": {}
      },
      "source": [
        ""
      ],
      "execution_count": 0,
      "outputs": []
    }
  ]
}